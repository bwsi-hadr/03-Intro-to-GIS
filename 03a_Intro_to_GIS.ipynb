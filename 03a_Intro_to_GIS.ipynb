{
 "cells": [
  {
   "cell_type": "markdown",
   "metadata": {
    "colab_type": "text",
    "id": "EfKSXVSMZgh3"
   },
   "source": [
    "# Intro to GIS with Python\n",
    "## What is GIS?\n",
    "GIS stands for _geographic information system_. Colloquially, it's the process of presenting and analyzing data on maps. GIS allows us to visualize and characterize the nature of spatially distributed data, including weather, infrastructure, and populations. As you can imagine, this is key for disaster response scenarios for both diagnosing the situation, as well as planning and monitoring the response.\n",
    "\n",
    "There are dozens of different GIS software options, both free and commercial. In this course, we will focus on free, python-based tools and packages. The principles taught in this course should carry over to most common GIS implementations. \n",
    "\n",
    "In particular, we will be using:\n",
    "- GDAL\n",
    "- geopandas\n",
    "\n",
    "This content is based off of the [Automating GIS Processes course](https://automating-gis-processes.github.io/2018/) from the University of Helsinki"
   ]
  },
  {
   "cell_type": "code",
   "execution_count": 2,
   "metadata": {
    "colab": {},
    "colab_type": "code",
    "id": "U1VkoUkxZVeg"
   },
   "outputs": [],
   "source": [
    "import geopandas as gpd\n",
    "import contextily as ctx # for basemaps\n",
    "from shapely.geometry import Point, LineString, Polygon\n",
    "from matplotlib import pyplot as plt"
   ]
  },
  {
   "cell_type": "markdown",
   "metadata": {
    "colab_type": "text",
    "id": "I4FdxWjGoa3Q"
   },
   "source": [
    "## Reading in GIS data\n",
    "For this lesson we are using data in Shapefile format representing distributions of specific beautifully colored fish species called Damselfish and the country borders of Europe.\n",
    "\n",
    "We're going to use the `wget` terminal command to download a file from a url.\n",
    "We then use `unzip` to unzip the archive into a folder of the same name. The `-o` option is used to overwrite the folder if it already exists\n",
    "We then us `ls` to see the contents of the folder"
   ]
  },
  {
   "cell_type": "code",
   "execution_count": 3,
   "metadata": {
    "colab": {
     "base_uri": "https://localhost:8080/",
     "height": 610
    },
    "colab_type": "code",
    "id": "ul2tHaBOn7xt",
    "outputId": "6e0fb5ec-21ca-44d9-e254-44e2bc4f18b1"
   },
   "outputs": [
    {
     "name": "stdout",
     "output_type": "stream",
     "text": [
      "--2021-07-13 12:06:03--  https://github.com/Automating-GIS-processes/FEC/raw/master/data/DAMSELFISH.zip\n",
      "Resolving github.com (github.com)... 192.30.255.112\n",
      "Connecting to github.com (github.com)|192.30.255.112|:443... connected.\n",
      "HTTP request sent, awaiting response... 302 Found\n",
      "Location: https://raw.githubusercontent.com/Automating-GIS-processes/FEC/master/data/DAMSELFISH.zip [following]\n",
      "--2021-07-13 12:06:03--  https://raw.githubusercontent.com/Automating-GIS-processes/FEC/master/data/DAMSELFISH.zip\n",
      "Resolving raw.githubusercontent.com (raw.githubusercontent.com)... 185.199.108.133, 185.199.109.133, 185.199.110.133, ...\n",
      "Connecting to raw.githubusercontent.com (raw.githubusercontent.com)|185.199.108.133|:443... connected.\n",
      "HTTP request sent, awaiting response... 200 OK\n",
      "Length: 12713865 (12M) [application/zip]\n",
      "Saving to: ‘fish_data.zip’\n",
      "\n",
      "fish_data.zip       100%[===================>]  12.12M  51.0MB/s    in 0.2s    \n",
      "\n",
      "2021-07-13 12:06:04 (51.0 MB/s) - ‘fish_data.zip’ saved [12713865/12713865]\n",
      "\n",
      "Archive:  fish_data.zip\n",
      "  inflating: fish_data/Red List Terms & Conditions of Use.pdf  \n",
      "  inflating: fish_data/DAMSELFISH_distributions.dbf  \n",
      "  inflating: fish_data/DAMSELFISH_distributions.prj  \n",
      "  inflating: fish_data/DAMSELFISH_distributions.sbn  \n",
      "  inflating: fish_data/DAMSELFISH_distributions.sbx  \n",
      "  inflating: fish_data/DAMSELFISH_distributions.shp  \n",
      "  inflating: fish_data/DAMSELFISH_distributions.shp.xml  \n",
      "  inflating: fish_data/DAMSELFISH_distributions.shx  \n",
      "  inflating: fish_data/METADATA for Digital Distribution Maps of The IUCN Red List of Threatened Species.pdf.pdf  \n",
      " DAMSELFISH_distributions.dbf\n",
      " DAMSELFISH_distributions.prj\n",
      " DAMSELFISH_distributions.sbn\n",
      " DAMSELFISH_distributions.sbx\n",
      " DAMSELFISH_distributions.shp\n",
      " DAMSELFISH_distributions.shp.xml\n",
      " DAMSELFISH_distributions.shx\n",
      "'METADATA for Digital Distribution Maps of The IUCN Red List of Threatened Species.pdf.pdf'\n",
      "'Red List Terms & Conditions of Use.pdf'\n"
     ]
    }
   ],
   "source": [
    "!wget https://github.com/Automating-GIS-processes/FEC/raw/master/data/DAMSELFISH.zip -O fish_data.zip\n",
    "!unzip -o fish_data.zip -d fish_data\n",
    "!ls fish_data"
   ]
  },
  {
   "cell_type": "markdown",
   "metadata": {
    "colab_type": "text",
    "id": "jTVbTuHmpQc2"
   },
   "source": [
    "Typically reading the data into Python is the first step of the analysis pipeline. In GIS, there exists various dataformats such as [Shapefile](https://en.wikipedia.org/wiki/Shapefile), [GeoJSON](https://en.wikipedia.org/wiki/GeoJSON), [KML](https://en.wikipedia.org/wiki/Keyhole_Markup_Language), and [GPKG](https://en.wikipedia.org/wiki/GeoPackage) that are probably the most common vector data formats. Geopandas is capable of reading data from all of these formats (plus many more). Reading spatial data can be done easily with geopandas using `gpd.read_file()` -function:"
   ]
  },
  {
   "cell_type": "code",
   "execution_count": 4,
   "metadata": {
    "colab": {},
    "colab_type": "code",
    "id": "SIt2VIrloies"
   },
   "outputs": [],
   "source": [
    "# path to shapefile\n",
    "filepath = \"fish_data/DAMSELFISH_distributions.shp\"\n",
    "\n",
    "# Read file using gpd.read_file()\n",
    "data = gpd.read_file(filepath)"
   ]
  },
  {
   "cell_type": "code",
   "execution_count": 5,
   "metadata": {
    "colab": {
     "base_uri": "https://localhost:8080/",
     "height": 487
    },
    "colab_type": "code",
    "id": "uSY2yeJupiBZ",
    "outputId": "fb033a3b-fba1-4fcb-d483-3b91079c5e20"
   },
   "outputs": [
    {
     "data": {
      "text/html": [
       "<div>\n",
       "<style scoped>\n",
       "    .dataframe tbody tr th:only-of-type {\n",
       "        vertical-align: middle;\n",
       "    }\n",
       "\n",
       "    .dataframe tbody tr th {\n",
       "        vertical-align: top;\n",
       "    }\n",
       "\n",
       "    .dataframe thead th {\n",
       "        text-align: right;\n",
       "    }\n",
       "</style>\n",
       "<table border=\"1\" class=\"dataframe\">\n",
       "  <thead>\n",
       "    <tr style=\"text-align: right;\">\n",
       "      <th></th>\n",
       "      <th>id_no</th>\n",
       "      <th>binomial</th>\n",
       "      <th>origin</th>\n",
       "      <th>compiler</th>\n",
       "      <th>year</th>\n",
       "      <th>citation</th>\n",
       "      <th>source</th>\n",
       "      <th>dist_comm</th>\n",
       "      <th>island</th>\n",
       "      <th>subspecies</th>\n",
       "      <th>...</th>\n",
       "      <th>class_name</th>\n",
       "      <th>order_name</th>\n",
       "      <th>family_nam</th>\n",
       "      <th>genus_name</th>\n",
       "      <th>species_na</th>\n",
       "      <th>category</th>\n",
       "      <th>shape_Leng</th>\n",
       "      <th>shape_Area</th>\n",
       "      <th>ORIG_FID</th>\n",
       "      <th>geometry</th>\n",
       "    </tr>\n",
       "  </thead>\n",
       "  <tbody>\n",
       "    <tr>\n",
       "      <th>0</th>\n",
       "      <td>183963.0</td>\n",
       "      <td>Stegastes leucorus</td>\n",
       "      <td>1</td>\n",
       "      <td>IUCN</td>\n",
       "      <td>2010</td>\n",
       "      <td>International Union for Conservation of Nature...</td>\n",
       "      <td>None</td>\n",
       "      <td>None</td>\n",
       "      <td>None</td>\n",
       "      <td>None</td>\n",
       "      <td>...</td>\n",
       "      <td>ACTINOPTERYGII</td>\n",
       "      <td>PERCIFORMES</td>\n",
       "      <td>POMACENTRIDAE</td>\n",
       "      <td>Stegastes</td>\n",
       "      <td>leucorus</td>\n",
       "      <td>VU</td>\n",
       "      <td>82.368856</td>\n",
       "      <td>28.239363</td>\n",
       "      <td>0</td>\n",
       "      <td>POLYGON ((-115.64375 29.71392, -115.61585 29.6...</td>\n",
       "    </tr>\n",
       "    <tr>\n",
       "      <th>1</th>\n",
       "      <td>183963.0</td>\n",
       "      <td>Stegastes leucorus</td>\n",
       "      <td>1</td>\n",
       "      <td>IUCN</td>\n",
       "      <td>2010</td>\n",
       "      <td>International Union for Conservation of Nature...</td>\n",
       "      <td>None</td>\n",
       "      <td>None</td>\n",
       "      <td>None</td>\n",
       "      <td>None</td>\n",
       "      <td>...</td>\n",
       "      <td>ACTINOPTERYGII</td>\n",
       "      <td>PERCIFORMES</td>\n",
       "      <td>POMACENTRIDAE</td>\n",
       "      <td>Stegastes</td>\n",
       "      <td>leucorus</td>\n",
       "      <td>VU</td>\n",
       "      <td>82.368856</td>\n",
       "      <td>28.239363</td>\n",
       "      <td>0</td>\n",
       "      <td>POLYGON ((-105.58995 21.89340, -105.56483 21.8...</td>\n",
       "    </tr>\n",
       "    <tr>\n",
       "      <th>2</th>\n",
       "      <td>183963.0</td>\n",
       "      <td>Stegastes leucorus</td>\n",
       "      <td>1</td>\n",
       "      <td>IUCN</td>\n",
       "      <td>2010</td>\n",
       "      <td>International Union for Conservation of Nature...</td>\n",
       "      <td>None</td>\n",
       "      <td>None</td>\n",
       "      <td>None</td>\n",
       "      <td>None</td>\n",
       "      <td>...</td>\n",
       "      <td>ACTINOPTERYGII</td>\n",
       "      <td>PERCIFORMES</td>\n",
       "      <td>POMACENTRIDAE</td>\n",
       "      <td>Stegastes</td>\n",
       "      <td>leucorus</td>\n",
       "      <td>VU</td>\n",
       "      <td>82.368856</td>\n",
       "      <td>28.239363</td>\n",
       "      <td>0</td>\n",
       "      <td>POLYGON ((-111.15962 19.01536, -111.15948 18.9...</td>\n",
       "    </tr>\n",
       "    <tr>\n",
       "      <th>3</th>\n",
       "      <td>183793.0</td>\n",
       "      <td>Chromis intercrusma</td>\n",
       "      <td>1</td>\n",
       "      <td>IUCN</td>\n",
       "      <td>2010</td>\n",
       "      <td>International Union for Conservation of Nature...</td>\n",
       "      <td>None</td>\n",
       "      <td>None</td>\n",
       "      <td>None</td>\n",
       "      <td>None</td>\n",
       "      <td>...</td>\n",
       "      <td>ACTINOPTERYGII</td>\n",
       "      <td>PERCIFORMES</td>\n",
       "      <td>POMACENTRIDAE</td>\n",
       "      <td>Chromis</td>\n",
       "      <td>intercrusma</td>\n",
       "      <td>LC</td>\n",
       "      <td>729.012180</td>\n",
       "      <td>87.461539</td>\n",
       "      <td>1</td>\n",
       "      <td>POLYGON ((-80.86500 -0.77894, -80.75930 -0.833...</td>\n",
       "    </tr>\n",
       "    <tr>\n",
       "      <th>4</th>\n",
       "      <td>183793.0</td>\n",
       "      <td>Chromis intercrusma</td>\n",
       "      <td>1</td>\n",
       "      <td>IUCN</td>\n",
       "      <td>2010</td>\n",
       "      <td>International Union for Conservation of Nature...</td>\n",
       "      <td>None</td>\n",
       "      <td>None</td>\n",
       "      <td>None</td>\n",
       "      <td>None</td>\n",
       "      <td>...</td>\n",
       "      <td>ACTINOPTERYGII</td>\n",
       "      <td>PERCIFORMES</td>\n",
       "      <td>POMACENTRIDAE</td>\n",
       "      <td>Chromis</td>\n",
       "      <td>intercrusma</td>\n",
       "      <td>LC</td>\n",
       "      <td>729.012180</td>\n",
       "      <td>87.461539</td>\n",
       "      <td>1</td>\n",
       "      <td>POLYGON ((-67.33922 -55.67610, -67.33755 -55.6...</td>\n",
       "    </tr>\n",
       "  </tbody>\n",
       "</table>\n",
       "<p>5 rows × 27 columns</p>\n",
       "</div>"
      ],
      "text/plain": [
       "      id_no             binomial  origin compiler  year  \\\n",
       "0  183963.0   Stegastes leucorus       1     IUCN  2010   \n",
       "1  183963.0   Stegastes leucorus       1     IUCN  2010   \n",
       "2  183963.0   Stegastes leucorus       1     IUCN  2010   \n",
       "3  183793.0  Chromis intercrusma       1     IUCN  2010   \n",
       "4  183793.0  Chromis intercrusma       1     IUCN  2010   \n",
       "\n",
       "                                            citation source dist_comm island  \\\n",
       "0  International Union for Conservation of Nature...   None      None   None   \n",
       "1  International Union for Conservation of Nature...   None      None   None   \n",
       "2  International Union for Conservation of Nature...   None      None   None   \n",
       "3  International Union for Conservation of Nature...   None      None   None   \n",
       "4  International Union for Conservation of Nature...   None      None   None   \n",
       "\n",
       "  subspecies  ...      class_name   order_name     family_nam genus_name  \\\n",
       "0       None  ...  ACTINOPTERYGII  PERCIFORMES  POMACENTRIDAE  Stegastes   \n",
       "1       None  ...  ACTINOPTERYGII  PERCIFORMES  POMACENTRIDAE  Stegastes   \n",
       "2       None  ...  ACTINOPTERYGII  PERCIFORMES  POMACENTRIDAE  Stegastes   \n",
       "3       None  ...  ACTINOPTERYGII  PERCIFORMES  POMACENTRIDAE    Chromis   \n",
       "4       None  ...  ACTINOPTERYGII  PERCIFORMES  POMACENTRIDAE    Chromis   \n",
       "\n",
       "    species_na category  shape_Leng shape_Area ORIG_FID  \\\n",
       "0     leucorus       VU   82.368856  28.239363        0   \n",
       "1     leucorus       VU   82.368856  28.239363        0   \n",
       "2     leucorus       VU   82.368856  28.239363        0   \n",
       "3  intercrusma       LC  729.012180  87.461539        1   \n",
       "4  intercrusma       LC  729.012180  87.461539        1   \n",
       "\n",
       "                                            geometry  \n",
       "0  POLYGON ((-115.64375 29.71392, -115.61585 29.6...  \n",
       "1  POLYGON ((-105.58995 21.89340, -105.56483 21.8...  \n",
       "2  POLYGON ((-111.15962 19.01536, -111.15948 18.9...  \n",
       "3  POLYGON ((-80.86500 -0.77894, -80.75930 -0.833...  \n",
       "4  POLYGON ((-67.33922 -55.67610, -67.33755 -55.6...  \n",
       "\n",
       "[5 rows x 27 columns]"
      ]
     },
     "execution_count": 5,
     "metadata": {},
     "output_type": "execute_result"
    }
   ],
   "source": [
    "data.head() #look at top entries - looks like a pandas dataframe"
   ]
  },
  {
   "cell_type": "code",
   "execution_count": 6,
   "metadata": {},
   "outputs": [
    {
     "data": {
      "text/plain": [
       "Index(['id_no', 'binomial', 'origin', 'compiler', 'year', 'citation', 'source',\n",
       "       'dist_comm', 'island', 'subspecies', 'subpop', 'legend', 'seasonal',\n",
       "       'tax_comm', 'rl_update', 'kingdom_na', 'phylum_nam', 'class_name',\n",
       "       'order_name', 'family_nam', 'genus_name', 'species_na', 'category',\n",
       "       'shape_Leng', 'shape_Area', 'ORIG_FID', 'geometry'],\n",
       "      dtype='object')"
      ]
     },
     "execution_count": 6,
     "metadata": {},
     "output_type": "execute_result"
    }
   ],
   "source": [
    "data.columns"
   ]
  },
  {
   "cell_type": "code",
   "execution_count": 7,
   "metadata": {
    "colab": {
     "base_uri": "https://localhost:8080/",
     "height": 34
    },
    "colab_type": "code",
    "id": "nVgTgQ1fpjue",
    "outputId": "4f9ef7d2-f5e6-428f-9b83-03d580c2fdc2"
   },
   "outputs": [
    {
     "data": {
      "text/plain": [
       "shapely.geometry.polygon.Polygon"
      ]
     },
     "execution_count": 7,
     "metadata": {},
     "output_type": "execute_result"
    }
   ],
   "source": [
    "# Note the column 'geometry' is full of shapely Polygon objects\n",
    "type(data['geometry'].iloc[0])"
   ]
  },
  {
   "cell_type": "markdown",
   "metadata": {},
   "source": [
    "Note that the data are in (lon, lat) ordering --- this is because the convention is (x, y) for computers, but (lat, lon) for coordinates. This is a frequent cause of error."
   ]
  },
  {
   "cell_type": "code",
   "execution_count": 8,
   "metadata": {},
   "outputs": [
    {
     "data": {
      "text/plain": [
       "0      POLYGON ((-115.64375 29.71392, -115.61585 29.6...\n",
       "1      POLYGON ((-105.58995 21.89340, -105.56483 21.8...\n",
       "2      POLYGON ((-111.15962 19.01536, -111.15948 18.9...\n",
       "3      POLYGON ((-80.86500 -0.77894, -80.75930 -0.833...\n",
       "4      POLYGON ((-67.33922 -55.67610, -67.33755 -55.6...\n",
       "                             ...                        \n",
       "226    POLYGON ((-120.11829 34.47283, -120.10502 34.4...\n",
       "227    POLYGON ((-117.41363 29.18823, -117.40898 29.1...\n",
       "228    POLYGON ((-114.63839 28.39008, -114.63660 28.3...\n",
       "229    POLYGON ((-111.15962 19.01536, -111.15948 18.9...\n",
       "230    POLYGON ((-114.24428 22.71135, -114.24818 22.7...\n",
       "Name: geometry, Length: 231, dtype: geometry"
      ]
     },
     "execution_count": 8,
     "metadata": {},
     "output_type": "execute_result"
    }
   ],
   "source": [
    "data['geometry']"
   ]
  },
  {
   "cell_type": "code",
   "execution_count": 10,
   "metadata": {
    "colab": {
     "base_uri": "https://localhost:8080/",
     "height": 1000
    },
    "colab_type": "code",
    "id": "8N1mjrnqkrZY",
    "outputId": "6947c138-a01f-408e-ce54-c57fcd27ab63"
   },
   "outputs": [
    {
     "data": {
      "text/html": [
       "<div>\n",
       "<style scoped>\n",
       "    .dataframe tbody tr th:only-of-type {\n",
       "        vertical-align: middle;\n",
       "    }\n",
       "\n",
       "    .dataframe tbody tr th {\n",
       "        vertical-align: top;\n",
       "    }\n",
       "\n",
       "    .dataframe thead th {\n",
       "        text-align: right;\n",
       "    }\n",
       "</style>\n",
       "<table border=\"1\" class=\"dataframe\">\n",
       "  <thead>\n",
       "    <tr style=\"text-align: right;\">\n",
       "      <th></th>\n",
       "      <th>minx</th>\n",
       "      <th>miny</th>\n",
       "      <th>maxx</th>\n",
       "      <th>maxy</th>\n",
       "    </tr>\n",
       "  </thead>\n",
       "  <tbody>\n",
       "    <tr>\n",
       "      <th>0</th>\n",
       "      <td>-116.222084</td>\n",
       "      <td>21.890988</td>\n",
       "      <td>-108.497261</td>\n",
       "      <td>29.767482</td>\n",
       "    </tr>\n",
       "    <tr>\n",
       "      <th>1</th>\n",
       "      <td>-107.594206</td>\n",
       "      <td>18.358633</td>\n",
       "      <td>-103.606827</td>\n",
       "      <td>22.256010</td>\n",
       "    </tr>\n",
       "    <tr>\n",
       "      <th>2</th>\n",
       "      <td>-112.956729</td>\n",
       "      <td>18.045856</td>\n",
       "      <td>-111.159482</td>\n",
       "      <td>19.956861</td>\n",
       "    </tr>\n",
       "    <tr>\n",
       "      <th>3</th>\n",
       "      <td>-82.225059</td>\n",
       "      <td>-57.388035</td>\n",
       "      <td>-67.241505</td>\n",
       "      <td>-0.692622</td>\n",
       "    </tr>\n",
       "    <tr>\n",
       "      <th>4</th>\n",
       "      <td>-67.356079</td>\n",
       "      <td>-55.719820</td>\n",
       "      <td>-67.318440</td>\n",
       "      <td>-55.663008</td>\n",
       "    </tr>\n",
       "    <tr>\n",
       "      <th>...</th>\n",
       "      <td>...</td>\n",
       "      <td>...</td>\n",
       "      <td>...</td>\n",
       "      <td>...</td>\n",
       "    </tr>\n",
       "    <tr>\n",
       "      <th>226</th>\n",
       "      <td>-120.491194</td>\n",
       "      <td>31.735737</td>\n",
       "      <td>-117.143276</td>\n",
       "      <td>34.476475</td>\n",
       "    </tr>\n",
       "    <tr>\n",
       "      <th>227</th>\n",
       "      <td>-119.352264</td>\n",
       "      <td>27.831807</td>\n",
       "      <td>-117.397705</td>\n",
       "      <td>30.225376</td>\n",
       "    </tr>\n",
       "    <tr>\n",
       "      <th>228</th>\n",
       "      <td>-116.439015</td>\n",
       "      <td>27.239447</td>\n",
       "      <td>-114.631652</td>\n",
       "      <td>29.299307</td>\n",
       "    </tr>\n",
       "    <tr>\n",
       "      <th>229</th>\n",
       "      <td>-112.956729</td>\n",
       "      <td>18.045856</td>\n",
       "      <td>-111.159482</td>\n",
       "      <td>19.956861</td>\n",
       "    </tr>\n",
       "    <tr>\n",
       "      <th>230</th>\n",
       "      <td>-115.054175</td>\n",
       "      <td>22.711310</td>\n",
       "      <td>-113.442188</td>\n",
       "      <td>24.478484</td>\n",
       "    </tr>\n",
       "  </tbody>\n",
       "</table>\n",
       "<p>231 rows × 4 columns</p>\n",
       "</div>"
      ],
      "text/plain": [
       "           minx       miny        maxx       maxy\n",
       "0   -116.222084  21.890988 -108.497261  29.767482\n",
       "1   -107.594206  18.358633 -103.606827  22.256010\n",
       "2   -112.956729  18.045856 -111.159482  19.956861\n",
       "3    -82.225059 -57.388035  -67.241505  -0.692622\n",
       "4    -67.356079 -55.719820  -67.318440 -55.663008\n",
       "..          ...        ...         ...        ...\n",
       "226 -120.491194  31.735737 -117.143276  34.476475\n",
       "227 -119.352264  27.831807 -117.397705  30.225376\n",
       "228 -116.439015  27.239447 -114.631652  29.299307\n",
       "229 -112.956729  18.045856 -111.159482  19.956861\n",
       "230 -115.054175  22.711310 -113.442188  24.478484\n",
       "\n",
       "[231 rows x 4 columns]"
      ]
     },
     "execution_count": 10,
     "metadata": {},
     "output_type": "execute_result"
    }
   ],
   "source": [
    "# geopandas adds useful attributes to the geodataframe, such as the ability to get bounds\n",
    "# of all the geometry data\n",
    "data.bounds"
   ]
  },
  {
   "cell_type": "code",
   "execution_count": 11,
   "metadata": {
    "colab": {
     "base_uri": "https://localhost:8080/",
     "height": 1000
    },
    "colab_type": "code",
    "id": "aoPpzP7BlBso",
    "outputId": "f0b529ae-6b9a-477b-9187-717914df4171"
   },
   "outputs": [
    {
     "data": {
      "text/plain": [
       "0      MULTILINESTRING ((-115.64375 29.71392, -115.61...\n",
       "1      MULTILINESTRING ((-105.58995 21.89340, -105.56...\n",
       "2      MULTILINESTRING ((-111.15962 19.01536, -111.15...\n",
       "3      MULTILINESTRING ((-80.86500 -0.77894, -80.7593...\n",
       "4      LINESTRING (-67.33922 -55.67610, -67.33755 -55...\n",
       "                             ...                        \n",
       "226    MULTILINESTRING ((-120.11829 34.47283, -120.10...\n",
       "227    MULTILINESTRING ((-117.41363 29.18823, -117.40...\n",
       "228    MULTILINESTRING ((-114.63839 28.39008, -114.63...\n",
       "229    MULTILINESTRING ((-111.15962 19.01536, -111.15...\n",
       "230    LINESTRING (-114.24428 22.71135, -114.24818 22...\n",
       "Length: 231, dtype: geometry"
      ]
     },
     "execution_count": 11,
     "metadata": {},
     "output_type": "execute_result"
    }
   ],
   "source": [
    "# similary, we can get attributes such as boundary\n",
    "data.boundary"
   ]
  },
  {
   "cell_type": "markdown",
   "metadata": {},
   "source": [
    "## Coordinate reference systems\n",
    "\n",
    "There are many different coordinate reference systems (CRS), which refer to different ways of indicating where on the earth you are referring to when you give a coordinate. Different CRS use different models of the earth's surface, map projections, units, and origin points (where 0,0 is). The discussion of the specifics is beyond the scope of this course. \n",
    "\n",
    "For the purposes of this course, we will primarily use the two following:\n",
    "\n",
    "### WGS 84: https://epsg.io/4326\n",
    "```\n",
    "The CRS used by the GPS system\n",
    "units: degrees\n",
    "0,0 is the intersection of greenwich meridian and equator\n",
    "epsg code: 4326\n",
    "```\n",
    "\n",
    "### Web Mercator: https://epsg.io/3857\n",
    "```\n",
    "The CRS used by most web maps, such as Google maps, OSM, Bing, etc.\n",
    "Not accurate at high latitudes >85 degrees, <-85 degrees\n",
    "units: meters\n",
    "0,0 is intersection of greensich meridian and equator\n",
    "epsg code: 3857\n",
    "```\n"
   ]
  },
  {
   "cell_type": "code",
   "execution_count": null,
   "metadata": {
    "colab": {
     "base_uri": "https://localhost:8080/",
     "height": 1000
    },
    "colab_type": "code",
    "id": "UTexsk7ElMV6",
    "outputId": "c0b7e2c3-b710-4c09-919b-0dc2906b8866"
   },
   "outputs": [],
   "source": [
    "# area will warn you if you're trying to do area calculations in geographic CRS\n",
    "data.area"
   ]
  },
  {
   "cell_type": "code",
   "execution_count": null,
   "metadata": {},
   "outputs": [],
   "source": [
    "data_in_3857 = data.to_crs('epsg:3857')\n",
    "data_in_3857.area"
   ]
  },
  {
   "cell_type": "code",
   "execution_count": null,
   "metadata": {
    "colab": {
     "base_uri": "https://localhost:8080/",
     "height": 1000
    },
    "colab_type": "code",
    "id": "Lu41lvu3lRJR",
    "outputId": "8e9dd195-1d8c-4cbc-800c-57a40901d707"
   },
   "outputs": [],
   "source": [
    "# we can check which species can be found between latitudes 10 and 20 degrees north\n",
    "data.intersects(Polygon([(-180,10),(180,10),(180,20),(-180,20)]))"
   ]
  },
  {
   "cell_type": "markdown",
   "metadata": {
    "colab_type": "text",
    "id": "d5qkO9zEry4x"
   },
   "source": [
    "## Exercises\n",
    "Using the polygon objects in the `geometry` column of the data frame:\n",
    "- create a new column called `area` which represent the areas of each row in the shapefile\n",
    "- What are the max, min, median, and quartiles values of the areas?\n",
    "- What fraction of the areas are greater than 25 square degrees?\n",
    "- What species has the largest total area?"
   ]
  },
  {
   "cell_type": "code",
   "execution_count": null,
   "metadata": {},
   "outputs": [],
   "source": []
  },
  {
   "cell_type": "markdown",
   "metadata": {
    "colab_type": "text",
    "id": "weV_oh8rmMfy"
   },
   "source": [
    "## Plotting\n",
    "Geopandas provides a useful `.plot()`  function which creates a matplotlib figure and returns an axes object.\n",
    "\n",
    "There's a ton of additional libraries that provide more plotting functionality, and we'll explore a few of them here. There's no \"correct\" set of libraries to use for GIS in python, and it's up to you to figure out which ones fit the best into your workflow.\n",
    "\n",
    "The `cmap` option to the `.plot()` function allows you to pass in a [matplotlib colormap name](https://matplotlib.org/gallery/color/colormap_reference.html), which are collections of colors used to visualize data"
   ]
  },
  {
   "cell_type": "code",
   "execution_count": null,
   "metadata": {
    "colab": {
     "base_uri": "https://localhost:8080/",
     "height": 224
    },
    "colab_type": "code",
    "id": "R_x4EWFgp3fH",
    "outputId": "879774cd-ef72-458d-bc54-f92a73fd9f03"
   },
   "outputs": [],
   "source": [
    "# we can use the built-in geopandas plot function to visualize\n",
    "ax = data.plot(figsize=(10,5), alpha=0.6, cmap='Set2')"
   ]
  },
  {
   "cell_type": "markdown",
   "metadata": {
    "colab_type": "text",
    "id": "wE97qBNR29Em"
   },
   "source": [
    "currently the colors are assigned arbitrarily. However, we can also use colors to encode information. \n",
    "\n",
    "Let's first use colors to categorize by endangerment status. To do so, we pass the `column` argument to `plot()`. For reference, we also set `legend=True`"
   ]
  },
  {
   "cell_type": "code",
   "execution_count": null,
   "metadata": {
    "colab": {
     "base_uri": "https://localhost:8080/",
     "height": 224
    },
    "colab_type": "code",
    "id": "m0ybkz_d23BY",
    "outputId": "d6005970-8615-404c-a820-f2e04030c5db"
   },
   "outputs": [],
   "source": [
    "ax = data.plot(figsize=(10,5), alpha=0.6, cmap='Set2', column='category', legend=True)"
   ]
  },
  {
   "cell_type": "markdown",
   "metadata": {
    "colab_type": "text",
    "id": "BVQ8tF1q3d7L"
   },
   "source": [
    "Another common use of colors to encode data is to represent numerical data in an area with colors. This is known as a [choropleth](https://en.wikipedia.org/wiki/Choropleth_map).\n",
    "\n",
    "Let's use this to encode the areas of each region"
   ]
  },
  {
   "cell_type": "code",
   "execution_count": null,
   "metadata": {
    "colab": {
     "base_uri": "https://localhost:8080/",
     "height": 312
    },
    "colab_type": "code",
    "id": "ptYUTftF3cHz",
    "outputId": "ac65bfd7-aae2-4d2d-a3db-8d768dc79372"
   },
   "outputs": [],
   "source": [
    "#then pass the area column as an argument\n",
    "ax = data.plot(figsize=(10,5), alpha=0.6, column='shape_Area', legend=True)"
   ]
  },
  {
   "cell_type": "markdown",
   "metadata": {
    "colab_type": "text",
    "id": "fEbqROlx4tTH"
   },
   "source": [
    "The colorbar legend is too big relative to the figure. We'll have to do some manual adjustments. There are tools to create axes grids for colorbars available in:\n",
    "https://matplotlib.org/3.1.0/tutorials/toolkits/axes_grid.html"
   ]
  },
  {
   "cell_type": "code",
   "execution_count": null,
   "metadata": {
    "colab": {
     "base_uri": "https://localhost:8080/",
     "height": 154
    },
    "colab_type": "code",
    "id": "_kpaq1NY4QQ7",
    "outputId": "03d4e922-a54d-43ef-8748-bd5006f4300d"
   },
   "outputs": [],
   "source": [
    "from mpl_toolkits.axes_grid1 import make_axes_locatable\n",
    "fig, ax = plt.subplots(1, 1)\n",
    "divider = make_axes_locatable(ax) #makes it so you can append to the axes\n",
    "\n",
    "#put another axes to the right of it, at 5% of the total width with 0.1 points of padding in between\n",
    "cax = divider.append_axes(\"right\", size=\"5%\", pad=0.1) \n",
    "# note that you have to specify both ax and cax as arguments for it to work\n",
    "data.plot(figsize=(10,5), alpha=0.6, column='area', \n",
    "          legend=True, ax=ax, cax=cax)"
   ]
  },
  {
   "cell_type": "markdown",
   "metadata": {
    "colab_type": "text",
    "id": "7nNv0NL2jXLf"
   },
   "source": [
    "The data by itself looks just like a bunch of blobs. Let's put it on a map for context\n",
    "\n",
    "[Contextily](https://github.com/geopandas/contextily) is a library for creating basemaps. It pulls data from a host of different basemap providers - see [documentation](https://contextily.readthedocs.io/en/latest/) for more details.\n"
   ]
  },
  {
   "cell_type": "code",
   "execution_count": null,
   "metadata": {
    "colab": {
     "base_uri": "https://localhost:8080/",
     "height": 34
    },
    "colab_type": "code",
    "id": "mt9Avb0q0IuC",
    "outputId": "de741a50-5aea-4049-d92c-8422298b30f4"
   },
   "outputs": [],
   "source": [
    "# the data is currently in WGS84 (epsg:4326)\n",
    "data.crs"
   ]
  },
  {
   "cell_type": "code",
   "execution_count": null,
   "metadata": {
    "colab": {
     "base_uri": "https://localhost:8080/",
     "height": 364
    },
    "colab_type": "code",
    "id": "DCYVcUxTh3F-",
    "outputId": "1b8cb404-7783-4b23-c84e-ec88ed62a354"
   },
   "outputs": [],
   "source": [
    "ax = data.plot(figsize=(10,5), alpha=0.6, cmap='Set2', column='category')\n",
    "# now we add a basemap. ctx finds a basemap for a background from\n",
    "# an online repository.\n",
    "# It assumes the data is in web mercator (epsg:3857) unless you specify otherwise\n",
    "ctx.add_basemap(ax, crs=data.crs)"
   ]
  },
  {
   "cell_type": "code",
   "execution_count": null,
   "metadata": {},
   "outputs": [],
   "source": [
    "# we can set bounds using matplotlib\n",
    "ax = data.plot(figsize=(10,5), alpha=0.6, cmap='Set2', column='category')\n",
    "ax.set_xlim([-180,180])\n",
    "ax.set_ylim([-85,85])\n",
    "ctx.add_basemap(ax, crs=data.crs)"
   ]
  },
  {
   "cell_type": "markdown",
   "metadata": {
    "colab_type": "text",
    "id": "QyvB6AAbp3Gu"
   },
   "source": [
    "We can use different background styles:\n",
    "![tile styles](https://contextily.readthedocs.io/en/latest/_images/tiles.png).\n",
    "\n",
    "Note that some styles only contain labels or lines."
   ]
  },
  {
   "cell_type": "code",
   "execution_count": null,
   "metadata": {
    "colab": {
     "base_uri": "https://localhost:8080/",
     "height": 260
    },
    "colab_type": "code",
    "id": "7HGDXxwgp2Fm",
    "outputId": "f0ba1fc7-c2a0-47d2-edf4-bbd69a2cd786",
    "tags": []
   },
   "outputs": [],
   "source": [
    "# to look at all of the different providers, check:\n",
    "ctx.providers"
   ]
  },
  {
   "cell_type": "markdown",
   "metadata": {},
   "source": [
    "previews of the different basemap styles can be viewed at: http://leaflet-extras.github.io/leaflet-providers/preview/ "
   ]
  },
  {
   "cell_type": "code",
   "execution_count": null,
   "metadata": {
    "colab": {
     "base_uri": "https://localhost:8080/",
     "height": 381
    },
    "colab_type": "code",
    "id": "pknCTknLucvf",
    "outputId": "03bd2a95-42ee-4c63-f158-ebdf76e28131"
   },
   "outputs": [],
   "source": [
    "ax = data.plot(figsize=(10,5), alpha=0.6, cmap='Set2', column='category')\n",
    "ax.set_xlim([-180,180])\n",
    "ax.set_ylim([-85,85])\n",
    "# to specify the type of basemap, specify the source argument\n",
    "# the syntax is ctx.providers.{provider name}.{provider style}\n",
    "ctx.add_basemap(ax, crs=data.crs, source=ctx.providers.Stamen.Watercolor)\n",
    "# you can add labels independently of the background\n",
    "ctx.add_basemap(ax, crs=data.crs, source=ctx.providers.CartoDB.DarkMatterOnlyLabels)"
   ]
  },
  {
   "cell_type": "code",
   "execution_count": null,
   "metadata": {
    "colab": {
     "base_uri": "https://localhost:8080/",
     "height": 54
    },
    "colab_type": "code",
    "id": "Ilaceib1vFFh",
    "outputId": "23c7fd83-5e0e-4a02-96d2-b04a73e7d75b"
   },
   "outputs": [],
   "source": [
    "# we can download background tiles as images for quicker loading (don't need to keep redownloading)\n",
    "# let's use the bounds of one of the fish locations as an example\n",
    "w,s,e,n = data.loc[25,'geometry'].bounds\n",
    "data.loc[10,'geometry'].bounds"
   ]
  },
  {
   "cell_type": "markdown",
   "metadata": {
    "colab_type": "text",
    "id": "x2kZllDjv-iv"
   },
   "source": [
    "the function bounds2img takes coordinates and [zoom level](https://wiki.openstreetmap.org/wiki/Zoom_levels) and downloads the corresponding tiles of the map as images"
   ]
  },
  {
   "cell_type": "code",
   "execution_count": null,
   "metadata": {
    "colab": {
     "base_uri": "https://localhost:8080/",
     "height": 317
    },
    "colab_type": "code",
    "id": "7_uaWWzFvuC1",
    "outputId": "12fcf339-0a80-4994-d66c-d9d218d5c1b2"
   },
   "outputs": [],
   "source": [
    "img, ext = ctx.bounds2img(w, s, e, n, 6, ll=True) #ll means coordinates are in lat-lon\n",
    "fig = plt.figure()\n",
    "ax = fig.add_subplot(1,1,1)\n",
    "ax.imshow(img, extent=ext)\n",
    "# bounds2img returns things in epsg:3857, so we need to plot the data in the same crs\n",
    "data.to_crs(epsg=3857).plot(ax=ax, cmap='Set3', alpha=0.8)\n",
    "ax_bounds = data.to_crs(epsg=3857).loc[25,'geometry'].bounds\n",
    "ax.set(xlim=[ax_bounds[0],ax_bounds[2]],ylim=[ax_bounds[1],ax_bounds[3]])\n"
   ]
  },
  {
   "cell_type": "markdown",
   "metadata": {
    "colab_type": "text",
    "id": "AxVlRjR8qoHm"
   },
   "source": [
    "## Writing to a shapefile\n",
    "\n",
    "First we'll make a directory for outputting data to. We use the `mkdir` command which makes an empty folder. The `-p` option will skip it if the directory already exists"
   ]
  },
  {
   "cell_type": "code",
   "execution_count": null,
   "metadata": {
    "colab": {},
    "colab_type": "code",
    "id": "mTujtJbZqTB2"
   },
   "outputs": [],
   "source": [
    "!mkdir output_data -p"
   ]
  },
  {
   "cell_type": "code",
   "execution_count": null,
   "metadata": {
    "colab": {},
    "colab_type": "code",
    "id": "ElvvoSQHql4T"
   },
   "outputs": [],
   "source": [
    "# let's write the first 50 rows of the shapefile to a new file\n",
    "outfp = \"output_data/DAMSELFISH_distributions_SELECTION.shp\"\n",
    "\n",
    "# Select first 50 rows\n",
    "selection = data[0:50]\n",
    "\n",
    "# Write those rows into a new Shapefile (the default output file format is Shapefile)\n",
    "selection.to_file(outfp)"
   ]
  },
  {
   "cell_type": "markdown",
   "metadata": {
    "colab_type": "text",
    "id": "3n7QVWo9tAuV"
   },
   "source": [
    "## Converting shapes to GeoDataFrames\n",
    "You can use Shapely geometric objects to create a GeoDataFrame from scratch. "
   ]
  },
  {
   "cell_type": "code",
   "execution_count": null,
   "metadata": {
    "colab": {
     "base_uri": "https://localhost:8080/",
     "height": 69
    },
    "colab_type": "code",
    "id": "r6xTzsiltNiR",
    "outputId": "7e686899-7e11-4812-9a42-fe6a14778341"
   },
   "outputs": [],
   "source": [
    "# Create an empty geopandas GeoDataFrame\n",
    "newdata = gpd.GeoDataFrame()\n",
    "\n",
    "# add a geometry column (necessary for shapefile)\n",
    "newdata['geometry'] = None\n",
    "\n",
    "# Let's see what we have at the moment\n",
    "print(newdata)"
   ]
  },
  {
   "cell_type": "code",
   "execution_count": null,
   "metadata": {
    "colab": {
     "base_uri": "https://localhost:8080/",
     "height": 121
    },
    "colab_type": "code",
    "id": "c9fD5asutOlQ",
    "outputId": "5957bc05-4dde-4ef1-eee9-8323a169b0c9"
   },
   "outputs": [],
   "source": [
    "# Coordinates of the MIT main campus in Decimal Degrees\n",
    "coordinates = [(-71.092562, 42.357602), ( -71.080155, 42.361553), ( -71.089817, 42.362584), (-71.094688, 42.360198)]\n",
    "\n",
    "# Create a Shapely polygon from the coordinate-tuple list\n",
    "poly = Polygon(coordinates)\n",
    "\n",
    "# Let's see what we have\n",
    "poly"
   ]
  },
  {
   "cell_type": "markdown",
   "metadata": {
    "colab_type": "text",
    "id": "_6QiacpteEaW"
   },
   "source": [
    "Quick checkpoint! Find the coordinates of the corners of a place that has significant meaning to you. Just like we did above, make a Shapely polygon from the coordinate-tuple list of the corners of your personal landmark.\n",
    "Display it! It can be as big as you want. If you want, share out with the class the place and why it is significant to you.  "
   ]
  },
  {
   "cell_type": "code",
   "execution_count": null,
   "metadata": {
    "colab": {},
    "colab_type": "code",
    "id": "ZWa6VwO5gP56"
   },
   "outputs": [],
   "source": [
    "# Coordinates of place of signficance in Decimal Degrees\n",
    "coordinates_personal =[]\n",
    "\n",
    "# Create a Shapely polygon from the coordinate-tuple list\n",
    "poly_personal =Polygon\n",
    "\n",
    "#Show the place and share out its significance if you want\n"
   ]
  },
  {
   "cell_type": "code",
   "execution_count": null,
   "metadata": {
    "colab": {
     "base_uri": "https://localhost:8080/",
     "height": 81
    },
    "colab_type": "code",
    "id": "B3-61iLVt_N5",
    "outputId": "52ff4839-275c-4cd4-a588-0a64a1a1e889"
   },
   "outputs": [],
   "source": [
    "# Insert the polygon into 'geometry' -column at index 0\n",
    "newdata.loc[0, 'geometry'] = poly\n",
    "newdata"
   ]
  },
  {
   "cell_type": "code",
   "execution_count": null,
   "metadata": {
    "colab": {
     "base_uri": "https://localhost:8080/",
     "height": 81
    },
    "colab_type": "code",
    "id": "D-5voz3YwU7x",
    "outputId": "58fcce49-588b-4404-ca43-6239e38e37b6"
   },
   "outputs": [],
   "source": [
    "newdata.loc[0, 'location'] = 'MIT main campus'\n",
    "newdata"
   ]
  },
  {
   "cell_type": "markdown",
   "metadata": {
    "colab_type": "text",
    "id": "WnCD6scxweE9"
   },
   "source": [
    "Before exporting the data it is necessary to set the coordinate reference system (projection) for the GeoDataFrame. \n",
    "\n",
    "We will set the crs using a function from `fiona`, another GIS library integrated with geopandas. "
   ]
  },
  {
   "cell_type": "code",
   "execution_count": null,
   "metadata": {
    "colab": {
     "base_uri": "https://localhost:8080/",
     "height": 34
    },
    "colab_type": "code",
    "id": "tflAvQZ8w-Cr",
    "outputId": "7b9be928-f905-4894-86f2-5c636d0b8f1d"
   },
   "outputs": [],
   "source": [
    "# Set the GeoDataFrame's coordinate system to WGS84 (i.e. epsg code 4326)\n",
    "newdata = newdata.set_crs('epsg:4326')\n",
    "\n",
    "# Let's see how the crs definition looks like\n",
    "newdata.crs"
   ]
  },
  {
   "cell_type": "code",
   "execution_count": null,
   "metadata": {
    "colab": {},
    "colab_type": "code",
    "id": "el0ujZVAxhp6"
   },
   "outputs": [],
   "source": [
    "outfp = \"output_data/MIT_campus.shp\"\n",
    "\n",
    "# Write the data into that Shapefile\n",
    "newdata.to_file(outfp)"
   ]
  },
  {
   "cell_type": "code",
   "execution_count": null,
   "metadata": {
    "colab": {
     "base_uri": "https://localhost:8080/",
     "height": 343
    },
    "colab_type": "code",
    "id": "6K9ob7oAyeIo",
    "outputId": "01887b54-cd30-4d4b-842c-30b7096fee39"
   },
   "outputs": [],
   "source": [
    "# Let's plot it\n",
    "ax = newdata.to_crs(epsg=3857).plot(figsize=(10,5),alpha = 0.5, color='#FF55FF')\n",
    "ctx.add_basemap(ax)\n",
    "ax.set_axis_off() # remove the x-y axes"
   ]
  },
  {
   "cell_type": "markdown",
   "metadata": {
    "colab_type": "text",
    "id": "MCNXf-5K2DDx"
   },
   "source": [
    "# Exercise\n",
    "Find an interesting GIS dataset and:\n",
    "- visualize some raw data\n",
    "- ask an interesting analysis question about it:\n",
    "  - intersections, sizes, quantities\n",
    "  - relationships\n",
    "  - e.g. which latitudes contain the most endangered species? what countries have the most ports per km of coastline?\n",
    "- Visualize some of your analysis\n",
    "\n",
    "As per usual, we'll ask a few volunteers to present their results.\n",
    "\n",
    "Here are some resources to look for GIS datasets:\n",
    "- Cambridge, MA GIS data: http://cambridgegis.github.io/gisdata.html\n",
    "- Free GIS data: https://freegisdata.rtwilson.com/\n",
    "- Data.gov: https://www.data.gov/"
   ]
  },
  {
   "cell_type": "code",
   "execution_count": null,
   "metadata": {
    "colab": {},
    "colab_type": "code",
    "id": "RhKrcnw27-p8"
   },
   "outputs": [],
   "source": []
  },
  {
   "cell_type": "markdown",
   "metadata": {
    "colab_type": "text",
    "id": "gfJNj0A9Kd2C"
   },
   "source": [
    "An important part responsibility of GIS engineers during the pandemic is to visualize spread and case intensity during the pandemic. Using datasets from the following sources:\n",
    "\n",
    "\n",
    "*   Visualize raw data collected from sources around the world about the state of the pandemic\n",
    "*   Explore connections between various factors and come up with a hypothesis for your research. Some ideas could be connecting COVID data in different counties to socioeconomy, age, or building architecture data. Remember, mapping data speaks louder than graphs or datasets.\n",
    "*   Present your findings to the rest of the class and come up with a possible solution to the problem or connection that you explored\n",
    "\n",
    "COVID-19 Datasets:\n",
    "* COVID-19 Dataset (Kaggle): www.kaggle.com/imdevskp/corona-virus-report\n",
    "* New York Times Dataset: https://github.com/nytimes/covid-19-data\n",
    "* JHU Dataset: https://github.com/CSSEGISandData/COVID-19/tree/master/csse_covid_19_data\n",
    "*  Feel free to explore more area specific datasets or datasets which outline other conditions. These are just suggestions.\n",
    "\n",
    "To make your research connections, be sure to explore population and demographic datasets of different counties around the country. Be creative with your research!"
   ]
  },
  {
   "cell_type": "code",
   "execution_count": null,
   "metadata": {
    "colab": {},
    "colab_type": "code",
    "id": "2HCkn3e3Koxq"
   },
   "outputs": [],
   "source": []
  },
  {
   "cell_type": "markdown",
   "metadata": {
    "colab_type": "text",
    "id": "v1UdgmMbKpGz"
   },
   "source": [
    "Map a shape of your hometown onto the map. Similar to how we mapped the coordinates of the MIT campus on a map, map the coordinates of your hometown onto a map. It doesn't have to exact, but just take a couple rough coordinates and visualize your place on the map. The TAs will try to map these shapes onto a full map so that we can get an idea of where everyone is from and visualize how geographically diverse our class is.\n",
    "\n",
    "One tool to help draw a polygon is https://geojson.io; you can export your polygon as a geojson and upload it to your jupyter instance to access from jupyter."
   ]
  },
  {
   "cell_type": "code",
   "execution_count": null,
   "metadata": {},
   "outputs": [],
   "source": []
  }
 ],
 "metadata": {
  "colab": {
   "collapsed_sections": [],
   "name": "03_Intro_to_GIS.ipynb",
   "provenance": []
  },
  "kernelspec": {
   "display_name": "Python 3",
   "language": "python",
   "name": "python3"
  },
  "language_info": {
   "codemirror_mode": {
    "name": "ipython",
    "version": 3
   },
   "file_extension": ".py",
   "mimetype": "text/x-python",
   "name": "python",
   "nbconvert_exporter": "python",
   "pygments_lexer": "ipython3",
   "version": "3.8.10"
  }
 },
 "nbformat": 4,
 "nbformat_minor": 4
}
